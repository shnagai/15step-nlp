{
 "cells": [
  {
   "cell_type": "markdown",
   "metadata": {},
   "source": [
    "## アナロジー推論"
   ]
  },
  {
   "cell_type": "code",
   "execution_count": 2,
   "metadata": {},
   "outputs": [
    {
     "name": "stdout",
     "output_type": "stream",
     "text": [
      "[==================================================] 100.0% 66.0/66.0MB downloaded\n",
      "tokyo - japan + france = ('paris', 0.9174968004226685)\n"
     ]
    },
    {
     "name": "stderr",
     "output_type": "stream",
     "text": [
      "/Users/shnagai/.pyenv/versions/anaconda3-5.3.1/lib/python3.7/site-packages/ipykernel_launcher.py:11: DeprecationWarning: Call to deprecated `wv` (Attribute will be removed in 4.0.0, use self instead).\n",
      "  # This is added back by InteractiveShellApp.init_path()\n"
     ]
    }
   ],
   "source": [
    "import gensim.downloader as api\n",
    "\n",
    "model = api.load('glove-wiki-gigaword-50')\n",
    "\n",
    "tokyo = model['tokyo']\n",
    "japan = model['japan']\n",
    "france = model['france']\n",
    "\n",
    "v = tokyo - japan + france\n",
    "\n",
    "print('tokyo - japan + france =', model.wv.similar_by_vector(v, topn=1)[0])"
   ]
  },
  {
   "cell_type": "markdown",
   "metadata": {},
   "source": [
    "- もっとも近い特徴ベクトルをもつ単語を探す"
   ]
  },
  {
   "cell_type": "code",
   "execution_count": 26,
   "metadata": {},
   "outputs": [
    {
     "name": "stdout",
     "output_type": "stream",
     "text": [
      "計算結果 = ('mother', 0.9615530967712402)\n"
     ]
    },
    {
     "name": "stderr",
     "output_type": "stream",
     "text": [
      "/Users/shnagai/.pyenv/versions/anaconda3-5.3.1/lib/python3.7/site-packages/ipykernel_launcher.py:11: DeprecationWarning: Call to deprecated `wv` (Attribute will be removed in 4.0.0, use self instead).\n",
      "  # This is added back by InteractiveShellApp.init_path()\n"
     ]
    }
   ],
   "source": [
    "## ほかの例を試してみるー\n",
    "#a = model['father']\n",
    "#b = model['men']\n",
    "#c = model['woman']\n",
    "a = model['father']\n",
    "b = model['son']\n",
    "c = model['daughter']\n",
    "\n",
    "v = a - b + c\n",
    "\n",
    "print('計算結果 =', model.wv.similar_by_vector(v, topn=1)[0])"
   ]
  },
  {
   "cell_type": "markdown",
   "metadata": {},
   "source": [
    "## 類義語"
   ]
  },
  {
   "cell_type": "code",
   "execution_count": 27,
   "metadata": {},
   "outputs": [
    {
     "name": "stdout",
     "output_type": "stream",
     "text": [
      "[('tokyo', 1.0), ('osaka', 0.8219321966171265), ('seoul', 0.8158920407295227), ('japan', 0.8078720569610596), ('shanghai', 0.7954349517822266), ('japanese', 0.7557870745658875), ('yen', 0.731688916683197), ('singapore', 0.7233643531799316), ('beijing', 0.7195608019828796), ('taipei', 0.7153447270393372)]\n"
     ]
    },
    {
     "name": "stderr",
     "output_type": "stream",
     "text": [
      "/Users/shnagai/.pyenv/versions/anaconda3-5.3.1/lib/python3.7/site-packages/ipykernel_launcher.py:2: DeprecationWarning: Call to deprecated `wv` (Attribute will be removed in 4.0.0, use self instead).\n",
      "  \n"
     ]
    }
   ],
   "source": [
    "tokyo = model['tokyo']\n",
    "print(model.wv.similar_by_vector(tokyo))"
   ]
  },
  {
   "cell_type": "code",
   "execution_count": 28,
   "metadata": {},
   "outputs": [
    {
     "name": "stdout",
     "output_type": "stream",
     "text": [
      "[('soccer', 1.0), ('football', 0.8964511156082153), ('club', 0.825609564781189), ('basketball', 0.8198714852333069), ('hockey', 0.8141611814498901), ('rugby', 0.7976311445236206), ('team', 0.7947839498519897), ('volleyball', 0.7942491173744202), ('league', 0.7941908836364746), ('sporting', 0.7748717069625854)]\n"
     ]
    },
    {
     "name": "stderr",
     "output_type": "stream",
     "text": [
      "/Users/shnagai/.pyenv/versions/anaconda3-5.3.1/lib/python3.7/site-packages/ipykernel_launcher.py:2: DeprecationWarning: Call to deprecated `wv` (Attribute will be removed in 4.0.0, use self instead).\n",
      "  \n"
     ]
    }
   ],
   "source": [
    "soccer = model['soccer']\n",
    "print(model.wv.similar_by_vector(soccer))"
   ]
  },
  {
   "cell_type": "code",
   "execution_count": 31,
   "metadata": {},
   "outputs": [
    {
     "name": "stdout",
     "output_type": "stream",
     "text": [
      "[('horse', 1.0), ('horses', 0.8595938086509705), ('dog', 0.7907582521438599), ('riding', 0.7717963457107544), ('bull', 0.7642240524291992), ('breeders', 0.7027290463447571), ('cat', 0.7017536163330078), ('derby', 0.695798397064209), ('ride', 0.6939681768417358), ('camel', 0.6921409368515015)]\n"
     ]
    },
    {
     "name": "stderr",
     "output_type": "stream",
     "text": [
      "/Users/shnagai/.pyenv/versions/anaconda3-5.3.1/lib/python3.7/site-packages/ipykernel_launcher.py:2: DeprecationWarning: Call to deprecated `wv` (Attribute will be removed in 4.0.0, use self instead).\n",
      "  \n"
     ]
    }
   ],
   "source": [
    "a = model['horse']\n",
    "print(model.wv.similar_by_vector(a))"
   ]
  },
  {
   "cell_type": "markdown",
   "metadata": {},
   "source": [
    "## 学習済みモデルの利用と日本語対応"
   ]
  },
  {
   "cell_type": "code",
   "execution_count": 35,
   "metadata": {},
   "outputs": [
    {
     "name": "stdout",
     "output_type": "stream",
     "text": [
      "tokyo - japan + france = [('パリ', 0.5090547800064087), ('東京', 0.482392281293869), ('ルーアン', 0.46184849739074707), ('アムステルダム', 0.4602998197078705), ('ウィーン', 0.4559345841407776), ('クラクフ', 0.4543962776660919), ('ブリュッセル', 0.45344141125679016), ('サンクトペテルブルク', 0.45139598846435547), ('ストラスブール', 0.4500630795955658), ('リヨン', 0.44288453459739685)]\n"
     ]
    },
    {
     "name": "stderr",
     "output_type": "stream",
     "text": [
      "/Users/shnagai/.pyenv/versions/anaconda3-5.3.1/lib/python3.7/site-packages/ipykernel_launcher.py:5: DeprecationWarning: Call to deprecated `__getitem__` (Method will be removed in 4.0.0, use self.wv.__getitem__() instead).\n",
      "  \"\"\"\n",
      "/Users/shnagai/.pyenv/versions/anaconda3-5.3.1/lib/python3.7/site-packages/ipykernel_launcher.py:6: DeprecationWarning: Call to deprecated `__getitem__` (Method will be removed in 4.0.0, use self.wv.__getitem__() instead).\n",
      "  \n",
      "/Users/shnagai/.pyenv/versions/anaconda3-5.3.1/lib/python3.7/site-packages/ipykernel_launcher.py:7: DeprecationWarning: Call to deprecated `__getitem__` (Method will be removed in 4.0.0, use self.wv.__getitem__() instead).\n",
      "  import sys\n"
     ]
    }
   ],
   "source": [
    "from gensim.models import Word2Vec\n",
    "\n",
    "model = Word2Vec.load('ja/ja.bin')\n",
    "\n",
    "tokyo = model['東京']\n",
    "japan = model['日本']\n",
    "france = model['フランス']\n",
    "print('tokyo - japan + france =', model.wv.similar_by_vector(tokyo - japan + france))"
   ]
  },
  {
   "cell_type": "code",
   "execution_count": 52,
   "metadata": {},
   "outputs": [
    {
     "name": "stdout",
     "output_type": "stream",
     "text": [
      "a - b + c = [('騎手', 0.9765198826789856), ('馬主', 0.5385039448738098), ('鞍上', 0.5093610882759094), ('オグリキャップ', 0.4878007173538208), ('ハイセイコー', 0.47212326526641846), ('ナリタブライアン', 0.45741140842437744), ('ボクサー', 0.45432335138320923), ('新馬', 0.4525936543941498), ('エルコンドルパサー', 0.4507179260253906), ('シンボリルドルフ', 0.44955646991729736)]\n"
     ]
    },
    {
     "name": "stderr",
     "output_type": "stream",
     "text": [
      "/Users/shnagai/.pyenv/versions/anaconda3-5.3.1/lib/python3.7/site-packages/ipykernel_launcher.py:1: DeprecationWarning: Call to deprecated `__getitem__` (Method will be removed in 4.0.0, use self.wv.__getitem__() instead).\n",
      "  \"\"\"Entry point for launching an IPython kernel.\n",
      "/Users/shnagai/.pyenv/versions/anaconda3-5.3.1/lib/python3.7/site-packages/ipykernel_launcher.py:2: DeprecationWarning: Call to deprecated `__getitem__` (Method will be removed in 4.0.0, use self.wv.__getitem__() instead).\n",
      "  \n",
      "/Users/shnagai/.pyenv/versions/anaconda3-5.3.1/lib/python3.7/site-packages/ipykernel_launcher.py:3: DeprecationWarning: Call to deprecated `__getitem__` (Method will be removed in 4.0.0, use self.wv.__getitem__() instead).\n",
      "  This is separate from the ipykernel package so we can avoid doing imports until\n"
     ]
    }
   ],
   "source": [
    "a = model['騎手']\n",
    "b = model['ディープインパクト']\n",
    "c = model['タケホープ']\n",
    "print('a - b + c =', model.wv.similar_by_vector(a - b + c))"
   ]
  },
  {
   "cell_type": "code",
   "execution_count": null,
   "metadata": {},
   "outputs": [],
   "source": []
  }
 ],
 "metadata": {
  "kernelspec": {
   "display_name": "Python 3",
   "language": "python",
   "name": "python3"
  },
  "language_info": {
   "codemirror_mode": {
    "name": "ipython",
    "version": 3
   },
   "file_extension": ".py",
   "mimetype": "text/x-python",
   "name": "python",
   "nbconvert_exporter": "python",
   "pygments_lexer": "ipython3",
   "version": "3.7.3"
  }
 },
 "nbformat": 4,
 "nbformat_minor": 2
}
